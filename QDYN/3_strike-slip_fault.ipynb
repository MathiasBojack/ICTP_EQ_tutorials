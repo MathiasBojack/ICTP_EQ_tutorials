{
 "cells": [
  {
   "cell_type": "markdown",
   "metadata": {},
   "source": [
    "# Strike-slip fault\n",
    "\n",
    "In this final tutorial, we will simulate earthquakes and slow slip events on a 1D strike-slip fault (in a 2D medium; after _Tse & Rice, 1986_ ). The fault is a vertically-dipping, right-lateral strike-slip fault, of which the frictional part extends down to 30 km. This fault is loaded at a typical plate rate of 35 mm/yr. Over the simulated duration of 300 years, the fault may experience stable creep, slow slip, or fast slip (earthquakes) depending on the frictional properties (rate-and-state friction parameters). The parameter values are calculated based on the temperature $T$ at depth $z$, given as $T(z) = z \\nabla T$, where $\\nabla T$ is the (constant) geothermal gradient."
   ]
  },
  {
   "cell_type": "code",
   "execution_count": null,
   "metadata": {},
   "outputs": [],
   "source": [
    "# Make plots interactive in the notebook\n",
    "%matplotlib notebook\n",
    "\n",
    "import matplotlib.pyplot as plt\n",
    "import numpy as np\n",
    "\n",
    "import os\n",
    "import sys\n",
    "\n",
    "# Add QDYN source directory to PATH\n",
    "base_dir = os.path.expanduser(\"~\")\n",
    "qdyn_dir = os.path.join(base_dir, \"qdyn\", \"src\")\n",
    "plot_dir = os.path.join(base_dir, \"qdyn\", \"utils\", \"post_processing\")\n",
    "sys.path.append(qdyn_dir)\n",
    "sys.path.append(plot_dir)\n",
    "\n",
    "# Import QDYN wrapper and plotting library\n",
    "from pyqdyn import qdyn\n",
    "import plot_functions as qdyn_plot"
   ]
  },
  {
   "cell_type": "markdown",
   "metadata": {},
   "source": [
    "We prepare the simulation in our usual way:"
   ]
  },
  {
   "cell_type": "code",
   "execution_count": null,
   "metadata": {},
   "outputs": [],
   "source": [
    "# Instantiate the QDYN class object\n",
    "p = qdyn()\n",
    "\n",
    "# Number of fault segments\n",
    "N = np.power(2, 11)\n",
    "\n",
    "# Number of seconds per year\n",
    "t_yr = 3600 * 24 * 365.0\n",
    "\n",
    "# Plate velocity = 35 mm/yr\n",
    "V = 35e-3 / t_yr\n",
    "\n",
    "# Python dictionary with general settings\n",
    "set_dict = {\n",
    "    \"N\": N,                     # number of fault segments\n",
    "    \"NXOUT\": np.power(2,1),     # snapshot output spacing\n",
    "    \"NTOUT\": 100,               # snapshot output frequency\n",
    "    \"ACC\": 1e-7,                # Solver accuracy\n",
    "    \"MU\": 30e9,                 # Shear modulus [Pa]\n",
    "    \"DTTRY\": 1e-8,              # First time step (needs to be small)\n",
    "    \"TMAX\": 300*t_yr,           # Run simulation 200 years\n",
    "    \"MESHDIM\": 1,               # One-dimensional fault in 2D medium\n",
    "    \"VS\": 3000,                 # Shear wave velocity [m/s]\n",
    "    \"L\": 30.0e3,                # Fault length (depth)\n",
    "    \"FINITE\": 3,                # Finite fault with free surface\n",
    "    \"IC\": N//4,                 # Location for time-series output (7.5 km depth)\n",
    "    \"SOLVER\": 2,                # Runge-Kutta solver\n",
    "    \"V_PL\": V,                  # Loading (plate) velocity [m/s]\n",
    "}\n",
    "\n",
    "# Python dictionary with rate-and-state friction parameters\n",
    "set_dict_RSF = {\n",
    "    \"RNS_LAW\": 0,       # using classical rate-and-state\n",
    "    \"THETA_LAW\": 1,     # using the ageing law\n",
    "    \"DC\": 40e-3,        # Dc = 40 mm\n",
    "    \"V_0\": V,           # Initial velocity\n",
    "    \"V_SS\": V,          # Reference velocity\n",
    "}\n",
    "\n",
    "# Set state variable near steady-state value\n",
    "set_dict_RSF[\"TH_0\"] = 0.99*set_dict_RSF[\"DC\"]/set_dict_RSF[\"V_0\"]\n",
    "set_dict[\"SET_DICT_RSF\"] = set_dict_RSF\n",
    "\n",
    "\"\"\" Step 1: Compute depth-dependent parameters \"\"\"\n",
    "# Depth vector\n",
    "z = np.linspace(0, set_dict[\"L\"], N)\n",
    "\n",
    "# Temperature vector\n",
    "dTdz = 25e-3\n",
    "T = dTdz * z\n",
    "\n",
    "# RSF parameters\n",
    "a = 3.28e-5*T - 9.288e-3\n",
    "a_min_b = a\n",
    "a = np.clip(a, a_min=0.004, a_max=10)\n",
    "a_min_b = np.clip(a_min_b, a_min=-0.0029, a_max=10)\n",
    "b = -(a_min_b - a)\n",
    "\n",
    "# Effective normal stress\n",
    "sigma = 18e3 * z + 1e7\n",
    "\n",
    "\"\"\" Step 2: Set (default) parameter values and generate mesh \"\"\"\n",
    "p.settings(set_dict)\n",
    "p.render_mesh()\n",
    "\n",
    "\"\"\" Step 3: override default mesh values \"\"\"\n",
    "p.mesh_dict[\"SIGMA\"] = sigma\n",
    "p.mesh_dict[\"A\"] = a\n",
    "p.mesh_dict[\"B\"] = b\n",
    "\n",
    "# Write input to qdyn.in\n",
    "p.write_input()\n",
    "p.W10_bash = False"
   ]
  },
  {
   "cell_type": "markdown",
   "metadata": {},
   "source": [
    "We can visualise the two asperities by plotting $(a-b)$ versus position on the fault:"
   ]
  },
  {
   "cell_type": "code",
   "execution_count": null,
   "metadata": {},
   "outputs": [],
   "source": [
    "plt.close(\"all\")\n",
    "plt.clf()\n",
    "plt.plot(p.mesh_dict[\"A\"] - p.mesh_dict[\"B\"], z * 1e-3)\n",
    "plt.axvline(0, ls=\":\", c=\"k\")\n",
    "plt.ylabel(\"depth [km]\")\n",
    "plt.xlabel(\"(a-b) [-]\")\n",
    "plt.gca().invert_yaxis()\n",
    "plt.tight_layout()\n",
    "plt.show()"
   ]
  },
  {
   "cell_type": "markdown",
   "metadata": {},
   "source": [
    "We then run this simulation with `p.run()`"
   ]
  },
  {
   "cell_type": "code",
   "execution_count": null,
   "metadata": {},
   "outputs": [],
   "source": [
    "p.run()"
   ]
  },
  {
   "cell_type": "markdown",
   "metadata": {},
   "source": [
    "Then read the output:"
   ]
  },
  {
   "cell_type": "code",
   "execution_count": null,
   "metadata": {},
   "outputs": [],
   "source": [
    "p.read_output()"
   ]
  },
  {
   "cell_type": "markdown",
   "metadata": {},
   "source": [
    "To get a general impression of how our fault behaved, we plot the time series of the shear stress $\\tau$, state $\\theta$, and slip rate $v$ recorded at the location where $v$ is maximum."
   ]
  },
  {
   "cell_type": "code",
   "execution_count": null,
   "metadata": {},
   "outputs": [],
   "source": [
    "# Time series of stress, state, and maximum slip rate on the fault\n",
    "qdyn_plot.timeseries(p.ot)"
   ]
  },
  {
   "cell_type": "markdown",
   "metadata": {},
   "source": [
    "In this double-asperity scenario, we see the opposite of what we saw in the single-asperity case: instead of converging to a stable limit cycle, the earthquake cycles diverge into (deterministic) chaos. This is clearly illustrated by the slip rate evolution:"
   ]
  },
  {
   "cell_type": "code",
   "execution_count": null,
   "metadata": {},
   "outputs": [],
   "source": [
    "# Spatio-temporal evolution of slip rates\n",
    "qdyn_plot.slip_profile(p.ox, orientation=\"vertical\")"
   ]
  },
  {
   "cell_type": "markdown",
   "metadata": {},
   "source": [
    "At first, both asperities rupture simultaneously, but after a few cycles, only the left asperity ruptures seismically while the right one mostly creeps. This pattern is reversed after a few more cycles. Another way of seeing this is with an animation:"
   ]
  },
  {
   "cell_type": "code",
   "execution_count": null,
   "metadata": {},
   "outputs": [],
   "source": [
    "# This will take a minute or two...\n",
    "qdyn_plot.animation_slip(p.ox, orientation=\"vertical\")"
   ]
  },
  {
   "cell_type": "markdown",
   "metadata": {},
   "source": [
    "## Exercise\n",
    "\n",
    "In certain regions of the world, like in New Zealand, the geothermal gradient far exceeds values typical for the continental crust (around 25 $^{\\circ}$C/km vs. over 100 $^{\\circ}$C/km in some regions). We can see the effect of a much steeper geotherm by increasing `dTdz` in the script file. Your mission, should you choose to accept it, is to systematically vary `dTdz` to identify transitions from fast slip to slow slip to creep, and to think about _why_ the mode of slip changes. "
   ]
  },
  {
   "cell_type": "code",
   "execution_count": null,
   "metadata": {},
   "outputs": [],
   "source": []
  }
 ],
 "metadata": {
  "kernelspec": {
   "display_name": "Python 3",
   "language": "python",
   "name": "python3"
  },
  "language_info": {
   "codemirror_mode": {
    "name": "ipython",
    "version": 3
   },
   "file_extension": ".py",
   "mimetype": "text/x-python",
   "name": "python",
   "nbconvert_exporter": "python",
   "pygments_lexer": "ipython3",
   "version": "3.7.4"
  }
 },
 "nbformat": 4,
 "nbformat_minor": 2
}
