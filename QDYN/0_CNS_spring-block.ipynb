{
 "cells": [
  {
   "cell_type": "markdown",
   "metadata": {},
   "source": [
    "# The CNS model\n",
    "\n",
    "In this tutorial, we'll run a series of spring-block (1D fault) simulations with the _Chen-Niemeijer-Spiers_ (CNS) microphysical model. The governing constitutive relations are:\n",
    "\n",
    "$$\n",
    "\\frac{\\mathrm{d} \\tau}{\\mathrm{d} t} = k \\left( V_{lp} - V_s \\right) = k \\left( V_{lp} - h \\left[\\dot{\\gamma}_{gr} + \\dot{\\gamma}_{ps} \\right] \\right)\n",
    "$$\n",
    "$$\n",
    "\\frac{\\mathrm{d} \\phi}{\\mathrm{d} t} = - \\left( 1 - \\phi \\right) \\left( \\dot{\\varepsilon}_{gr} + \\dot{\\varepsilon}_{ps} \\right) = - \\left( 1 - \\phi \\right) \\left( - \\tan \\psi \\dot{\\gamma}_{gr} + \\dot{\\varepsilon}_{ps} \\right) \n",
    "$$\n",
    "\n",
    "with\n",
    "\n",
    "$$\n",
    "\\dot{\\gamma}_{gr} = \\dot{\\gamma}_{gr}^* \\exp \\left( \\frac{\\tau \\left[1 - \\mu^* \\tan \\psi \\right] - \\sigma \\left[ \\mu^* + \\tan \\psi \\right]}{\\tilde{a} \\left[\\sigma + \\tau \\tan \\psi \\right]} \\right)\n",
    "$$\n",
    "\n",
    "$$\n",
    "\\dot{\\gamma}_{ps} = Z \\tau f(\\phi) \\quad , \\quad \\dot{\\varepsilon}_{ps} = Z \\sigma f(\\phi)\n",
    "$$\n",
    "\n",
    "$$\n",
    "\\tan \\psi = 2H \\left( \\phi_c - \\phi \\right)\n",
    "$$\n",
    "\n",
    "**Symbols** $\\tau$: shear stress; $\\sigma$: normal stress; $k$: stiffness; $\\dot{\\gamma}$: shear strain rate; $h$: fault gouge thickness; $\\phi$: porosity; $\\dot{\\varepsilon}$: volumetric strain rate; $\\tan \\psi$: dilatancy angle; $\\mu^*$ \"reference\" friction; $\\dot{\\gamma}_{gr}^*$: reference shear strain rate; $\\tilde{a}$: velocity-dependence parameter; $Z$: pressure solution kinetics (temperature-dependent); $f(\\phi)$: stress intensification function; $\\phi_c$: maximum (\"critical state\") porosity; $H$: dilatancy coefficient (geometric).\n",
    "\n",
    "The governing equations of the CNS model are solved in the same way as for rate-and-state friction, the only difference being the input parameters (pressure solution kinetics, granular flow geometric values, etc. instead of $a$, $b$, $D_c$).\n",
    "\n",
    "# CNS spring-block simulations\n",
    "\n",
    "We start by importing the necessary libraries and pointing to the QDYN executable:"
   ]
  },
  {
   "cell_type": "code",
   "execution_count": null,
   "metadata": {},
   "outputs": [],
   "source": [
    "# Make plots interactive in the notebook\n",
    "%matplotlib notebook\n",
    "\n",
    "import matplotlib.pyplot as plt\n",
    "import numpy as np\n",
    "\n",
    "import os\n",
    "import sys\n",
    "\n",
    "# Add QDYN source directory to PATH\n",
    "base_dir = os.path.expanduser(\"~\")\n",
    "qdyn_dir = os.path.join(base_dir, \"qdyn\", \"src\")\n",
    "sys.path.append(qdyn_dir)\n",
    "\n",
    "# Import QDYN wrapper\n",
    "from pyqdyn import qdyn"
   ]
  },
  {
   "cell_type": "markdown",
   "metadata": {},
   "source": [
    "The simulation parameters are accessible after instantiation of the QDYN class as a Python dictionary object. We first define a number of global simulation parameters:"
   ]
  },
  {
   "cell_type": "code",
   "execution_count": null,
   "metadata": {},
   "outputs": [],
   "source": [
    "# Instantiate the QDYN class object\n",
    "p = qdyn()\n",
    "\n",
    "# Get the settings dict\n",
    "set_dict = p.set_dict\n",
    "\n",
    "# Global simulation parameters\n",
    "set_dict[\"MESHDIM\"] = 0        # Simulation dimensionality (spring-block)\n",
    "set_dict[\"TMAX\"] = 200         # Maximum simulation time [s]\n",
    "set_dict[\"NTOUT\"] = 100        # Save output every N steps\n",
    "set_dict[\"V_PL\"] = 1e-5        # Load-point velocity [m/s]\n",
    "set_dict[\"MU\"] = 2e9           # Shear modulus [Pa]\n",
    "set_dict[\"VS\"] = 0             # Turn of radiation damping\n",
    "set_dict[\"SIGMA\"] = 5e6        # Effective normal stress [Pa]\n",
    "set_dict[\"ACC\"] = 1e-7         # Solver accuracy\n",
    "set_dict[\"SOLVER\"] = 2         # Solver type (Runge-Kutta)\n",
    "\n",
    "# To switch from rate-and-state friction (\"RSF\"; default) to the CNS model,\n",
    "# we set the \"FRICTION_MODEL\" to \"CNS\"\n",
    "set_dict[\"FRICTION_MODEL\"] = \"CNS\""
   ]
  },
  {
   "cell_type": "markdown",
   "metadata": {},
   "source": [
    "We then overwrite the default values of specific rheological parameters:"
   ]
  },
  {
   "cell_type": "code",
   "execution_count": null,
   "metadata": {},
   "outputs": [],
   "source": [
    "set_dict[\"SET_DICT_CNS\"][\"H\"] = 0.5        # Dilatancy coefficient (higher = more dilatancy)\n",
    "set_dict[\"SET_DICT_CNS\"][\"PHI_C\"] = 0.3    # Critical state (maximum) porosity\n",
    "set_dict[\"SET_DICT_CNS\"][\"A\"] = [1e-10]    # Kinetic parameter of the creep mechanism\n",
    "set_dict[\"SET_DICT_CNS\"][\"N\"] = [1]        # Stress exponent of the creep mechanism\n",
    "\n",
    "# Thickness of the (localised) gouge layer [m]\n",
    "set_dict[\"SET_DICT_CNS\"][\"THICKNESS\"] = 1e-4\n",
    "# Initial shear stress [Pa]\n",
    "set_dict[\"SET_DICT_CNS\"][\"TAU\"] = 0.5 * set_dict[\"SIGMA\"]\n",
    "# Initial porosity [-]\n",
    "set_dict[\"SET_DICT_CNS\"][\"PHI_INI\"] = 0.25"
   ]
  },
  {
   "cell_type": "markdown",
   "metadata": {},
   "source": [
    "Lastly, we pass the settings to the QDYN wrapper, generate the mesh (only 1 element) and write the `qdyn.in` input file:"
   ]
  },
  {
   "cell_type": "code",
   "execution_count": null,
   "metadata": {},
   "outputs": [],
   "source": [
    "p.settings(set_dict)\n",
    "p.render_mesh()\n",
    "p.write_input()\n",
    "p.W10_bash = True"
   ]
  },
  {
   "cell_type": "markdown",
   "metadata": {},
   "source": [
    "The `p.write()` command writes a `qdyn.in` file to the current working directory, which is read by QDYN at the start of the simulation. To do this, call `p.run()`. Note that in this notebook, the screen output (`stdout`) is captured by the console, so you won't see any output here."
   ]
  },
  {
   "cell_type": "code",
   "execution_count": null,
   "metadata": {},
   "outputs": [],
   "source": [
    "p.run()"
   ]
  },
  {
   "cell_type": "markdown",
   "metadata": {},
   "source": [
    "The simulation output is read and processed by the wrapper using:"
   ]
  },
  {
   "cell_type": "code",
   "execution_count": null,
   "metadata": {},
   "outputs": [],
   "source": [
    "p.read_output()"
   ]
  },
  {
   "cell_type": "markdown",
   "metadata": {},
   "source": [
    "The simulation time series output is then stored as a pandas `DataFrame` in `p.ot`. To inspect the first 10 entries:"
   ]
  },
  {
   "cell_type": "code",
   "execution_count": null,
   "metadata": {},
   "outputs": [],
   "source": [
    "p.ot.head(10)"
   ]
  },
  {
   "cell_type": "markdown",
   "metadata": {},
   "source": [
    "To see the behaviour of our spring-block fault, we can plot the time series of (normalised) shear stress, porosity, and slip velocity:"
   ]
  },
  {
   "cell_type": "code",
   "execution_count": null,
   "metadata": {
    "scrolled": true
   },
   "outputs": [],
   "source": [
    "plt.figure()\n",
    "\n",
    "# Normalised shear stress\n",
    "plt.subplot(311)\n",
    "plt.plot(p.ot[\"t\"], p.ot[\"tau\"] / set_dict[\"SIGMA\"])\n",
    "plt.ylabel(r\"$\\tau / \\sigma$ [-]\")\n",
    "\n",
    "# Porosity\n",
    "plt.subplot(312)\n",
    "plt.plot(p.ot[\"t\"], 100 * p.ot[\"theta\"])\n",
    "plt.ylabel(r\"$\\phi$ [%]\")\n",
    "\n",
    "# Velocity\n",
    "plt.subplot(313)\n",
    "plt.plot(p.ot[\"t\"], p.ot[\"v\"])\n",
    "plt.yscale(\"log\")\n",
    "plt.ylabel(r\"$v$ [m/s]\")\n",
    "plt.xlabel(\"time [s]\")\n",
    "\n",
    "plt.tight_layout()\n",
    "plt.show()"
   ]
  },
  {
   "cell_type": "markdown",
   "metadata": {},
   "source": [
    "Note that the stick-slip cycles converge to a stable limit cycle, even in the absence of radiation damping. This is in contrast to classical rate-and-state friction, which does not exhibit stable limit cycles.\n",
    "\n",
    "The stability of a fault governed by CNS rheology is very sensitive to the granular flow parameters, such as the dilatancy parameter $H$ (see _van den Ende et al._ , [2018](https://doi.org/10.1016/j.tecto.2017.11.040)). By changing this value from 0.5 to 0.3, the fault stabilises at only deforms at steady-state:"
   ]
  },
  {
   "cell_type": "code",
   "execution_count": null,
   "metadata": {},
   "outputs": [],
   "source": [
    "set_dict[\"SET_DICT_CNS\"][\"H\"] = 0.3        # Updated dilatancy coefficient\n",
    "\n",
    "# Write settings, run simulation\n",
    "p.settings(set_dict)\n",
    "p.render_mesh()\n",
    "p.write_input()\n",
    "p.run()\n",
    "p.read_output()\n",
    "\n",
    "# Plot time series\n",
    "plt.figure()\n",
    "plt.subplot(311)\n",
    "plt.plot(p.ot[\"t\"], p.ot[\"tau\"] / set_dict[\"SIGMA\"])\n",
    "plt.ylabel(r\"$\\tau / \\sigma$ [-]\")\n",
    "\n",
    "plt.subplot(312)\n",
    "plt.plot(p.ot[\"t\"], 100 * p.ot[\"theta\"])\n",
    "plt.ylabel(r\"$\\phi$ [%]\")\n",
    "\n",
    "plt.subplot(313)\n",
    "plt.plot(p.ot[\"t\"], p.ot[\"v\"])\n",
    "plt.yscale(\"log\")\n",
    "plt.ylabel(r\"$v$ [m/s]\")\n",
    "plt.xlabel(\"time [s]\")\n",
    "\n",
    "plt.tight_layout()\n",
    "plt.show()"
   ]
  },
  {
   "cell_type": "code",
   "execution_count": null,
   "metadata": {},
   "outputs": [],
   "source": []
  }
 ],
 "metadata": {
  "kernelspec": {
   "display_name": "Python 3",
   "language": "python",
   "name": "python3"
  },
  "language_info": {
   "codemirror_mode": {
    "name": "ipython",
    "version": 3
   },
   "file_extension": ".py",
   "mimetype": "text/x-python",
   "name": "python",
   "nbconvert_exporter": "python",
   "pygments_lexer": "ipython3",
   "version": "3.7.4"
  }
 },
 "nbformat": 4,
 "nbformat_minor": 2
}
