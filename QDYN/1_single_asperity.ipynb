{
 "cells": [
  {
   "cell_type": "markdown",
   "metadata": {},
   "source": [
    "# Single asperity simulations\n",
    "\n",
    "In this tutorial, we simulate slip on a fault with a single velocity-weakening asperity, embedded in a velocity-strengthening (creeping) matrix. We begin by importing some modules."
   ]
  },
  {
   "cell_type": "code",
   "execution_count": null,
   "metadata": {},
   "outputs": [],
   "source": [
    "# Make plots interactive in the notebook\n",
    "%matplotlib notebook\n",
    "\n",
    "import matplotlib.pyplot as plt\n",
    "import numpy as np\n",
    "\n",
    "import os\n",
    "import sys\n",
    "\n",
    "# Add QDYN source directory to PATH\n",
    "base_dir = os.path.expanduser(\"~\")\n",
    "qdyn_dir = os.path.join(base_dir, \"qdyn\", \"src\")\n",
    "plot_dir = os.path.join(base_dir, \"qdyn\", \"utils\", \"post_processing\")\n",
    "sys.path.append(qdyn_dir)\n",
    "sys.path.append(plot_dir)\n",
    "\n",
    "# Import QDYN wrapper and plotting library\n",
    "from pyqdyn import qdyn\n",
    "import plot_functions as qdyn_plot"
   ]
  },
  {
   "cell_type": "markdown",
   "metadata": {},
   "source": [
    "To preprare a simulation, the global simulation and mesh parameters will have to be specified. This is done in three steps: \n",
    "\n",
    "1. Specify global parameters, like simulation duration, output resolution, mesh size, and default mesh values\n",
    "2. Render the mesh (assigning default values to every element)\n",
    "3. Override the default mesh parameter values to create heterogeneity in the simulation\n",
    "\n",
    "In this simulation, the only heterogeneity stems from a lateral variation in the direct effect parameter $a$, which is chosen such that the asperity has $(a-b) < 0$, and such that the matrix has $(a - b) > 0$."
   ]
  },
  {
   "cell_type": "code",
   "execution_count": null,
   "metadata": {},
   "outputs": [],
   "source": [
    "# Instantiate the QDYN class object\n",
    "p = qdyn()\n",
    "\n",
    "# Predefine parameters\n",
    "t_yr = 3600 * 24 * 365.0    # seconds per year\n",
    "Lasp = 7                    # Length of asperity / nucleation length\n",
    "L = 5                       # Length of fault / nucleation length\n",
    "ab_ratio = 0.8              # a/b of asperity\n",
    "cab_ratio = 1 - ab_ratio\n",
    "resolution = 7              # Mesh resolution / process zone width\n",
    "\n",
    "# Get the settings dict\n",
    "set_dict = p.set_dict\n",
    "\n",
    "\"\"\" Step 1: Define simulation/mesh parameters \"\"\"\n",
    "# Global simulation parameters\n",
    "set_dict[\"MESHDIM\"] = 1        # Simulation dimensionality (1D fault in 2D medium)\n",
    "set_dict[\"FINITE\"] = 0         # Periodic fault\n",
    "set_dict[\"TMAX\"] = 15*t_yr     # Maximum simulation time [s]\n",
    "set_dict[\"NTOUT\"] = 100        # Save output every N steps\n",
    "set_dict[\"NXOUT\"] = 2          # Snapshot resolution (every N elements)\n",
    "set_dict[\"V_PL\"] = 1e-9        # Plate velocity [m/s]\n",
    "set_dict[\"MU\"] = 3e10          # Shear modulus [Pa]\n",
    "set_dict[\"W\"] = 50e3           # Loading distance [m]\n",
    "set_dict[\"SIGMA\"] = 1e8        # Effective normal stress [Pa]\n",
    "set_dict[\"ACC\"] = 1e-7         # Solver accuracy\n",
    "set_dict[\"SOLVER\"] = 2         # Solver type (Runge-Kutta)\n",
    "\n",
    "# Setting some (default) RSF parameter values\n",
    "set_dict[\"SET_DICT_RSF\"][\"A\"] = 0.9e-2    # Direct effect (will be overwritten later)\n",
    "set_dict[\"SET_DICT_RSF\"][\"B\"] = 1e-2      # Evolution effect\n",
    "set_dict[\"SET_DICT_RSF\"][\"DC\"] = 4e-4     # Characteristic slip distance\n",
    "set_dict[\"SET_DICT_RSF\"][\"V_SS\"] = set_dict[\"V_PL\"]    # Reference velocity [m/s]\n",
    "set_dict[\"SET_DICT_RSF\"][\"TH_0\"] = set_dict[\"SET_DICT_RSF\"][\"DC\"] / set_dict[\"V_PL\"]    # Initial state [s]\n",
    "\n",
    "# Compute relevant length scales:\n",
    "# Process zone width [m]\n",
    "Lb = set_dict[\"MU\"] * set_dict[\"SET_DICT_RSF\"][\"DC\"] / (set_dict[\"SET_DICT_RSF\"][\"B\"] * set_dict[\"SIGMA\"])\n",
    "# Nucleation length [m]\n",
    "Lc = Lb / cab_ratio\n",
    "# Length of asperity [m]\n",
    "Lasp *= Lc\n",
    "# Fault length [m]\n",
    "L *= Lasp\n",
    "\n",
    "# Find next power of two for number of mesh elements\n",
    "N = int(np.power(2, np.ceil(np.log2(resolution * L / Lb))))\n",
    "# Spatial coordinate for mesh\n",
    "x = np.linspace(-L/2, L/2, N, dtype=float)\n",
    "\n",
    "# Set mesh size and fault length\n",
    "set_dict[\"N\"] = N\n",
    "set_dict[\"L\"] = L\n",
    "# Location on the fault (middle) for time series output\n",
    "set_dict[\"IC\"] = N // 2\n",
    "\n",
    "\"\"\" Step 2: Set (default) parameter values and generate mesh \"\"\"\n",
    "p.settings(set_dict)\n",
    "p.render_mesh()\n",
    "\n",
    "\"\"\" Step 3: override default mesh values \"\"\"\n",
    "# Distribute direct effect a over mesh according to some arbitrary function\n",
    "p.mesh_dict[\"A\"] = set_dict[\"SET_DICT_RSF\"][\"B\"] * (1 + cab_ratio*(1 - 2*np.exp(-(2*x/Lasp)**6)))\n",
    "\n",
    "# Write input to qdyn.in\n",
    "p.write_input()\n",
    "# On Windows 10, set this flag to True \n",
    "# (see http://ydluo.github.io/qdyn/getting_started.html#additional-notes-for-windows-10-users)\n",
    "p.W10_bash = False"
   ]
  },
  {
   "cell_type": "markdown",
   "metadata": {},
   "source": [
    "To see the effect of setting a heterogeneous value of a over the mesh, we can plot $(a-b)$ versus position on the fault:"
   ]
  },
  {
   "cell_type": "code",
   "execution_count": null,
   "metadata": {},
   "outputs": [],
   "source": [
    "plt.clf()\n",
    "plt.plot(x, p.mesh_dict[\"A\"] - p.mesh_dict[\"B\"])\n",
    "plt.axhline(0, ls=\":\", c=\"k\")\n",
    "plt.xlabel(\"position [m]\")\n",
    "plt.ylabel(\"(a-b) [-]\")\n",
    "plt.tight_layout()\n",
    "plt.show()"
   ]
  },
  {
   "cell_type": "markdown",
   "metadata": {},
   "source": [
    "As desired, the asperity is defined by $(a-b) < 0$, embedded in a stable matrix with $(a-b) > 0$.\n",
    "\n",
    "The `p.write()` command writes a `qdyn.in` file to the current working directory, which is read by QDYN at the start of the simulation. To do this, call `p.run()`. Note that in this notebook, the screen output (`stdout`) is captured by the console, so you won't see any output here."
   ]
  },
  {
   "cell_type": "code",
   "execution_count": null,
   "metadata": {},
   "outputs": [],
   "source": [
    "p.run()"
   ]
  },
  {
   "cell_type": "markdown",
   "metadata": {},
   "source": [
    "During the simulation, output is flushed to disk every `NTOUT` time steps. This output can be reloaded without re-running the simulation, so you only have to call `p.run()` again if you made any changes to the input parameters. To read/process the output, call:"
   ]
  },
  {
   "cell_type": "code",
   "execution_count": null,
   "metadata": {},
   "outputs": [],
   "source": [
    "p.read_output()"
   ]
  },
  {
   "cell_type": "markdown",
   "metadata": {},
   "source": [
    "For this tutorial, we use a library (`plot_functions.py`) that handles the plotting logistics. This library can be found in the `utils/post_processing` folder in the QDYN directory. To get a general impression of how our fault behaved, we plot the time series of the shear stress $\\tau$ and state $\\theta$ recorded at the centre of the fault, and the maximum slip rate $v_{max}$ recorded over the entire fault."
   ]
  },
  {
   "cell_type": "code",
   "execution_count": null,
   "metadata": {},
   "outputs": [],
   "source": [
    "# Time series of stress, state, and maximum slip rate on the fault\n",
    "qdyn_plot.timeseries(p.ot)"
   ]
  },
  {
   "cell_type": "markdown",
   "metadata": {},
   "source": [
    "The simulations typically take a few cycles to \"warm-up\" and to converge to a stable limit cycle. After the warm-up the behaviour of the fault is independent of our choice for initial values. In cases where the fault slip behaviour is chaotic, no stable limit cycle may ever be attained. In our case, a stable limit cycle is attained after about 4 years. To better see what is going on during each cycle, we plot the evolution of the slip rate on the fault from 4 years onwards:"
   ]
  },
  {
   "cell_type": "code",
   "execution_count": null,
   "metadata": {},
   "outputs": [],
   "source": [
    "# Spatio-temporal evolution of slip rates\n",
    "qdyn_plot.slip_profile(p.ox, warm_up=4*t_yr)"
   ]
  },
  {
   "cell_type": "markdown",
   "metadata": {},
   "source": [
    "In this plot, the warmer colours indicate higher slip rates. The asperity is positioned in the centre of the fault (around $x = 0$). As the fault is progressively loaded, nucleation starts at the centre and the \"crack\" grows laterally until it enters the matrix, after which it quickly decelerates and the rupture ceases.\n",
    "\n",
    "This type of plots is perhaps not immediately intuitive, so it helps to look at an animation to get a better sense of the slip evolution on this fault."
   ]
  },
  {
   "cell_type": "code",
   "execution_count": null,
   "metadata": {},
   "outputs": [],
   "source": [
    "# This will take a minute or two...\n",
    "qdyn_plot.animation_slip(p.ox, warm_up=4*t_yr)"
   ]
  },
  {
   "cell_type": "code",
   "execution_count": null,
   "metadata": {},
   "outputs": [],
   "source": []
  }
 ],
 "metadata": {
  "kernelspec": {
   "display_name": "Python 3",
   "language": "python",
   "name": "python3"
  },
  "language_info": {
   "codemirror_mode": {
    "name": "ipython",
    "version": 3
   },
   "file_extension": ".py",
   "mimetype": "text/x-python",
   "name": "python",
   "nbconvert_exporter": "python",
   "pygments_lexer": "ipython3",
   "version": "3.7.4"
  }
 },
 "nbformat": 4,
 "nbformat_minor": 2
}
