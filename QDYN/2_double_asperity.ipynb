{
 "cells": [
  {
   "cell_type": "markdown",
   "metadata": {},
   "source": [
    "# Double asperity simulations\n",
    "\n",
    "In the previous tutorial, we looked at a rather simple configuration, that of a single asperity which exhibited repetitive, stable limit cycles. In this tutorial, we'll consider a fault with two asperities, one of size $f L_a$, and another of size $(1-f)L_a$. We begin with $f = 0.5$, meaning that both asperities are of equal size $0.5 L_a$. Later on, we can tune this parameter $f$ to see how the behaviour changes."
   ]
  },
  {
   "cell_type": "code",
   "execution_count": null,
   "metadata": {},
   "outputs": [],
   "source": [
    "# Make plots interactive in the notebook\n",
    "%matplotlib notebook\n",
    "\n",
    "import matplotlib.pyplot as plt\n",
    "import numpy as np\n",
    "\n",
    "import os\n",
    "import sys\n",
    "\n",
    "# Add QDYN source directory to PATH\n",
    "base_dir = os.path.expanduser(\"~\")\n",
    "qdyn_dir = os.path.join(base_dir, \"qdyn\", \"src\")\n",
    "plot_dir = os.path.join(base_dir, \"qdyn\", \"utils\", \"post_processing\")\n",
    "sys.path.append(qdyn_dir)\n",
    "sys.path.append(plot_dir)\n",
    "\n",
    "# Import QDYN wrapper and plotting library\n",
    "from pyqdyn import qdyn\n",
    "import plot_functions as qdyn_plot"
   ]
  },
  {
   "cell_type": "markdown",
   "metadata": {},
   "source": [
    "We prepare the simulation in a similar way as we have done in the single asperity case:"
   ]
  },
  {
   "cell_type": "code",
   "execution_count": null,
   "metadata": {},
   "outputs": [],
   "source": [
    "# Instantiate the QDYN class object\n",
    "p = qdyn()\n",
    "\n",
    "# Predefine parameters\n",
    "t_yr = 3600 * 24 * 365.0    # seconds per year\n",
    "f = 0.5                     # Size ratio of asperities\n",
    "L = 15                      # Length of fault / nucleation length\n",
    "ab_ratio = 0.8              # a/b of asperity\n",
    "cab_ratio = 1 - ab_ratio\n",
    "resolution = 7              # Mesh resolution / process zone width\n",
    "\n",
    "# Get the settings dict\n",
    "set_dict = p.set_dict\n",
    "\n",
    "\"\"\" Step 1: Define simulation/mesh parameters \"\"\"\n",
    "# Global simulation parameters\n",
    "set_dict[\"MESHDIM\"] = 1        # Simulation dimensionality (1D fault in 2D medium)\n",
    "set_dict[\"FINITE\"] = 1         # Finite fault\n",
    "set_dict[\"TMAX\"] = 25*t_yr     # Maximum simulation time [s]\n",
    "set_dict[\"NTOUT\"] = 100        # Save output every N steps\n",
    "set_dict[\"NXOUT\"] = 2          # Snapshot resolution (every N elements)\n",
    "set_dict[\"V_PL\"] = 1e-9        # Plate velocity [m/s]\n",
    "set_dict[\"MU\"] = 3e10          # Shear modulus [Pa]\n",
    "set_dict[\"SIGMA\"] = 1e8        # Effective normal stress [Pa]\n",
    "set_dict[\"ACC\"] = 1e-7         # Solver accuracy\n",
    "set_dict[\"SOLVER\"] = 2         # Solver type (Runge-Kutta)\n",
    "\n",
    "# Setting some (default) RSF parameter values\n",
    "set_dict[\"SET_DICT_RSF\"][\"A\"] = 1.2e-2    # Direct effect\n",
    "set_dict[\"SET_DICT_RSF\"][\"B\"] = 1e-2      # Evolution effect\n",
    "set_dict[\"SET_DICT_RSF\"][\"DC\"] = 4e-4     # Characteristic slip distance\n",
    "set_dict[\"SET_DICT_RSF\"][\"V_SS\"] = set_dict[\"V_PL\"]    # Reference velocity [m/s]\n",
    "set_dict[\"SET_DICT_RSF\"][\"TH_0\"] = set_dict[\"SET_DICT_RSF\"][\"DC\"] / set_dict[\"V_PL\"]    # Initial state [s]\n",
    "\n",
    "# Compute relevant length scales:\n",
    "# Process zone width [m]\n",
    "Lb = set_dict[\"MU\"] * set_dict[\"SET_DICT_RSF\"][\"DC\"] / (set_dict[\"SET_DICT_RSF\"][\"B\"] * set_dict[\"SIGMA\"])\n",
    "# Nucleation length [m]\n",
    "Lc = Lb / cab_ratio\n",
    "# Fault length [m]\n",
    "L *= Lc\n",
    "L1 = 0.5 * f * L\n",
    "L2 = 0.5 * (1 - f) * L\n",
    "p1 = L / 3 - L / 2\n",
    "p2 = 2 * L / 3 - L / 2\n",
    "\n",
    "# Find next power of two for number of mesh elements\n",
    "N = int(np.power(2, np.ceil(np.log2(resolution * L / Lb))))\n",
    "# Spatial coordinate for mesh\n",
    "x = np.linspace(-L/2, L/2, N, dtype=float)\n",
    "asp1 = (x > (p1 - L1 / 2)) & (x < (p1 + L1 / 2))\n",
    "asp2 = (x > (p2 - L2 / 2)) & (x < (p2 + L2 / 2))\n",
    "\n",
    "# Set mesh size and fault length\n",
    "set_dict[\"N\"] = N\n",
    "set_dict[\"L\"] = L\n",
    "# Location on the fault (middle) for time series output\n",
    "set_dict[\"IC\"] = N // 2\n",
    "\n",
    "\"\"\" Step 2: Set (default) parameter values and generate mesh \"\"\"\n",
    "p.settings(set_dict)\n",
    "p.render_mesh()\n",
    "\n",
    "\"\"\" Step 3: override default mesh values \"\"\"\n",
    "# Distribute direct effect a over mesh according to some arbitrary function\n",
    "p.mesh_dict[\"A\"][asp1 + asp2] = ab_ratio * p.mesh_dict[\"B\"][asp1 + asp2]\n",
    "\n",
    "# Write input to qdyn.in\n",
    "p.write_input()\n",
    "p.W10_bash = False"
   ]
  },
  {
   "cell_type": "markdown",
   "metadata": {},
   "source": [
    "We can visualise the two asperities by plotting $(a-b)$ versus position on the fault:"
   ]
  },
  {
   "cell_type": "code",
   "execution_count": null,
   "metadata": {},
   "outputs": [],
   "source": [
    "plt.clf()\n",
    "plt.plot(x, p.mesh_dict[\"A\"] - p.mesh_dict[\"B\"])\n",
    "plt.axhline(0, ls=\":\", c=\"k\")\n",
    "plt.xlabel(\"position [m]\")\n",
    "plt.ylabel(\"(a-b) [-]\")\n",
    "plt.tight_layout()\n",
    "plt.show()"
   ]
  },
  {
   "cell_type": "markdown",
   "metadata": {},
   "source": [
    "We then run this simulation with `p.run()`"
   ]
  },
  {
   "cell_type": "code",
   "execution_count": null,
   "metadata": {},
   "outputs": [],
   "source": [
    "p.run()"
   ]
  },
  {
   "cell_type": "markdown",
   "metadata": {},
   "source": [
    "Then read the output:"
   ]
  },
  {
   "cell_type": "code",
   "execution_count": null,
   "metadata": {},
   "outputs": [],
   "source": [
    "p.read_output()"
   ]
  },
  {
   "cell_type": "markdown",
   "metadata": {},
   "source": [
    "To get a general impression of how our fault behaved, we plot the time series of the shear stress $\\tau$ and state $\\theta$ at the centre of the fault, and maximum slip rate $v_{max}$ recorded over the entire fault."
   ]
  },
  {
   "cell_type": "code",
   "execution_count": null,
   "metadata": {},
   "outputs": [],
   "source": [
    "# Time series of stress, state, and maximum slip rate on the fault\n",
    "qdyn_plot.timeseries(p.ot)"
   ]
  },
  {
   "cell_type": "markdown",
   "metadata": {},
   "source": [
    "In this double-asperity scenario, we see the opposite of what we saw in the single-asperity case: instead of converging to a stable limit cycle, the earthquake cycles diverge into (deterministic) chaos. This is clearly illustrated by the slip rate evolution:"
   ]
  },
  {
   "cell_type": "code",
   "execution_count": null,
   "metadata": {},
   "outputs": [],
   "source": [
    "# Spatio-temporal evolution of slip rates\n",
    "qdyn_plot.slip_profile(p.ox, warm_up=1*t_yr)"
   ]
  },
  {
   "cell_type": "markdown",
   "metadata": {},
   "source": [
    "At first, both asperities rupture simultaneously, but after a few cycles, only the right asperity ruptures seismically while the left one mostly creeps. This pattern is reversed after a few more cycles. Another way of seeing this is with an animation:"
   ]
  },
  {
   "cell_type": "code",
   "execution_count": null,
   "metadata": {},
   "outputs": [],
   "source": [
    "# This will take a minute or two...\n",
    "qdyn_plot.animation_slip(p.ox, warm_up=1*t_yr)"
   ]
  },
  {
   "cell_type": "markdown",
   "metadata": {},
   "source": [
    "## Exercise\n",
    "\n",
    "Vary `f` to see how the fault's response changes. Why does `f = 0.5` show chaotic behaviour, but not `f = 0.2`? Note that `f = 0.4` is the same as `f = 0.6` (it simply changes the order of the asperities)."
   ]
  },
  {
   "cell_type": "code",
   "execution_count": null,
   "metadata": {},
   "outputs": [],
   "source": []
  }
 ],
 "metadata": {
  "kernelspec": {
   "display_name": "Python 3",
   "language": "python",
   "name": "python3"
  },
  "language_info": {
   "codemirror_mode": {
    "name": "ipython",
    "version": 3
   },
   "file_extension": ".py",
   "mimetype": "text/x-python",
   "name": "python",
   "nbconvert_exporter": "python",
   "pygments_lexer": "ipython3",
   "version": "3.7.4"
  }
 },
 "nbformat": 4,
 "nbformat_minor": 2
}
